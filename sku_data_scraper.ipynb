{
 "cells": [
  {
   "cell_type": "code",
   "execution_count": 103,
   "metadata": {},
   "outputs": [],
   "source": [
    "import subprocess, json\n",
    "import pandas as pd\n",
    "import numpy as np\n",
    "from tqdm import tqdm\n",
    "from datetime import date"
   ]
  },
  {
   "cell_type": "code",
   "execution_count": 27,
   "metadata": {},
   "outputs": [],
   "source": [
    "skus_df = pd.read_csv(\"outputs/skus.csv\")\n",
    "skus = skus_df.idMedicamento.astype(str).unique().tolist()"
   ]
  },
  {
   "cell_type": "code",
   "execution_count": 92,
   "metadata": {},
   "outputs": [
    {
     "name": "stderr",
     "output_type": "stream",
     "text": [
      "100%|██████████| 498/498 [05:21<00:00,  1.55it/s]\n"
     ]
    }
   ],
   "source": [
    "import requests\n",
    "import json\n",
    "\n",
    "def get_data(skus):\n",
    "  url = \"https://medicamentos.fonasa.cl/buscador-farmacias/buscarFarmacias\"\n",
    "\n",
    "  try:\n",
    "    payload = json.dumps({\n",
    "      \"longitud\": -70.6216794,\n",
    "      \"latitud\": -33.4843354,\n",
    "      \"medicamento\": \",\".join(skus),\n",
    "      \"distancia\": 50\n",
    "    }).replace(\" \",\"\")\n",
    "    headers = {\n",
    "      'Content-Type': 'application/json'\n",
    "    }   \n",
    "\n",
    "    response = requests.request(\"POST\", url, headers=headers, data=payload)\n",
    "\n",
    "    temporal_df = pd.DataFrame(response.json().get(\"medicamento\").get(\"medicamento\"))\n",
    "    return temporal_df\n",
    "  except:\n",
    "    print(\"error in:\", skus)\n",
    "\n",
    "list_of_dfs = []\n",
    "\n",
    "BATCH_SIZE = 10 \n",
    "items = len(skus)\n",
    "BATCHES = int(np.ceil(items / BATCH_SIZE))\n",
    "\n",
    "for i in tqdm(range(BATCHES)):\n",
    "  start = i * BATCH_SIZE\n",
    "  end = (i + 1) * BATCH_SIZE\n",
    "  mini_batch_skus = skus[start:end]\n",
    "  mini_batch_df = get_data(mini_batch_skus)\n",
    "  list_of_dfs.append(mini_batch_df)\n",
    "  \n",
    "\n"
   ]
  },
  {
   "cell_type": "code",
   "execution_count": 1,
   "metadata": {},
   "outputs": [
    {
     "ename": "NameError",
     "evalue": "name 'pd' is not defined",
     "output_type": "error",
     "traceback": [
      "\u001b[0;31m---------------------------------------------------------------------------\u001b[0m",
      "\u001b[0;31mNameError\u001b[0m                                 Traceback (most recent call last)",
      "\u001b[0;32m<ipython-input-1-9b3e1e7ad54f>\u001b[0m in \u001b[0;36m<module>\u001b[0;34m\u001b[0m\n\u001b[1;32m      1\u001b[0m (\n\u001b[0;32m----> 2\u001b[0;31m     \u001b[0mpd\u001b[0m\u001b[0;34m.\u001b[0m\u001b[0mconcat\u001b[0m\u001b[0;34m(\u001b[0m\u001b[0mlist_of_dfs\u001b[0m\u001b[0;34m)\u001b[0m\u001b[0;34m\u001b[0m\u001b[0;34m\u001b[0m\u001b[0m\n\u001b[0m\u001b[1;32m      3\u001b[0m     \u001b[0;34m.\u001b[0m\u001b[0mdrop\u001b[0m\u001b[0;34m(\u001b[0m\u001b[0mcolumns\u001b[0m\u001b[0;34m=\u001b[0m\u001b[0;34m[\u001b[0m\u001b[0;34m\"nombreRegion\"\u001b[0m\u001b[0;34m]\u001b[0m\u001b[0;34m)\u001b[0m\u001b[0;34m\u001b[0m\u001b[0;34m\u001b[0m\u001b[0m\n\u001b[1;32m      4\u001b[0m     \u001b[0;34m.\u001b[0m\u001b[0massign\u001b[0m\u001b[0;34m(\u001b[0m\u001b[0mfecha_proceso\u001b[0m\u001b[0;34m=\u001b[0m\u001b[0mdate\u001b[0m\u001b[0;34m.\u001b[0m\u001b[0mtoday\u001b[0m\u001b[0;34m(\u001b[0m\u001b[0;34m)\u001b[0m\u001b[0;34m)\u001b[0m\u001b[0;34m\u001b[0m\u001b[0;34m\u001b[0m\u001b[0m\n\u001b[1;32m      5\u001b[0m     \u001b[0;34m.\u001b[0m\u001b[0mto_csv\u001b[0m\u001b[0;34m(\u001b[0m\u001b[0;34m\"outputs/data_medicamentos_fonasa.csv\"\u001b[0m\u001b[0;34m,\u001b[0m \u001b[0mindex\u001b[0m\u001b[0;34m=\u001b[0m\u001b[0;32mFalse\u001b[0m\u001b[0;34m,\u001b[0m \u001b[0msep\u001b[0m\u001b[0;34m=\u001b[0m\u001b[0;34m\";\"\u001b[0m\u001b[0;34m)\u001b[0m\u001b[0;34m\u001b[0m\u001b[0;34m\u001b[0m\u001b[0m\n",
      "\u001b[0;31mNameError\u001b[0m: name 'pd' is not defined"
     ]
    }
   ],
   "source": [
    "(\n",
    "    pd.concat(list_of_dfs)\n",
    "    .drop(columns=[\"nombreRegion\"])\n",
    "    .assign(fecha_proceso=date.today())\n",
    "    .to_csv(\"outputs/data_medicamentos_fonasa.csv\", index=False, sep=\";\")\n",
    ")"
   ]
  },
  {
   "cell_type": "code",
   "execution_count": null,
   "metadata": {},
   "outputs": [],
   "source": []
  }
 ],
 "metadata": {
  "kernelspec": {
   "display_name": "Python 3",
   "language": "python",
   "name": "python3"
  },
  "language_info": {
   "codemirror_mode": {
    "name": "ipython",
    "version": 3
   },
   "file_extension": ".py",
   "mimetype": "text/x-python",
   "name": "python",
   "nbconvert_exporter": "python",
   "pygments_lexer": "ipython3",
   "version": "3.9.2"
  },
  "orig_nbformat": 4,
  "vscode": {
   "interpreter": {
    "hash": "6e0010f4a42fb073d760f6a79c1e295d009fb277ee17e5247e1b7af1f3cd61c6"
   }
  }
 },
 "nbformat": 4,
 "nbformat_minor": 2
}
